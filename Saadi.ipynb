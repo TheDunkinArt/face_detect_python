{
 "cells": [
  {
   "cell_type": "code",
   "execution_count": 19,
   "id": "0705582a-999c-43dc-84e1-b1d3d99e11d6",
   "metadata": {
    "scrolled": true
   },
   "outputs": [
    {
     "name": "stderr",
     "output_type": "stream",
     "text": [
      "Cloning into 'face_detect_python'...\n",
      "Updating files:  11% (1321/11796)\n",
      "Updating files:  12% (1416/11796)\n",
      "Updating files:  13% (1534/11796)\n",
      "Updating files:  14% (1652/11796)\n",
      "Updating files:  15% (1770/11796)\n",
      "Updating files:  16% (1888/11796)\n",
      "Updating files:  17% (2006/11796)\n",
      "Updating files:  18% (2124/11796)\n",
      "Updating files:  19% (2242/11796)\n",
      "Updating files:  20% (2360/11796)\n",
      "Updating files:  21% (2478/11796)\n",
      "Updating files:  22% (2596/11796)\n",
      "Updating files:  22% (2637/11796)\n",
      "Updating files:  23% (2714/11796)\n",
      "Updating files:  24% (2832/11796)\n",
      "Updating files:  25% (2949/11796)\n",
      "Updating files:  26% (3067/11796)\n",
      "Updating files:  27% (3185/11796)\n",
      "Updating files:  28% (3303/11796)\n",
      "Updating files:  29% (3421/11796)\n",
      "Updating files:  30% (3539/11796)\n",
      "Updating files:  31% (3657/11796)\n",
      "Updating files:  31% (3751/11796)\n",
      "Updating files:  32% (3775/11796)\n",
      "Updating files:  33% (3893/11796)\n",
      "Updating files:  34% (4011/11796)\n",
      "Updating files:  35% (4129/11796)\n",
      "Updating files:  36% (4247/11796)\n",
      "Updating files:  37% (4365/11796)\n",
      "Updating files:  38% (4483/11796)\n",
      "Updating files:  39% (4601/11796)\n",
      "Updating files:  40% (4719/11796)\n",
      "Updating files:  40% (4797/11796)\n",
      "Updating files:  41% (4837/11796)\n",
      "Updating files:  42% (4955/11796)\n",
      "Updating files:  43% (5073/11796)\n",
      "Updating files:  44% (5191/11796)\n",
      "Updating files:  45% (5309/11796)\n",
      "Updating files:  46% (5427/11796)\n",
      "Updating files:  47% (5545/11796)\n",
      "Updating files:  48% (5663/11796)\n",
      "Updating files:  49% (5781/11796)\n",
      "Updating files:  49% (5809/11796)\n",
      "Updating files:  50% (5898/11796)\n",
      "Updating files:  51% (6016/11796)\n",
      "Updating files:  52% (6134/11796)\n",
      "Updating files:  53% (6252/11796)\n",
      "Updating files:  54% (6370/11796)\n",
      "Updating files:  55% (6488/11796)\n",
      "Updating files:  56% (6606/11796)\n",
      "Updating files:  57% (6724/11796)\n",
      "Updating files:  58% (6842/11796)\n",
      "Updating files:  58% (6908/11796)\n",
      "Updating files:  59% (6960/11796)\n",
      "Updating files:  60% (7078/11796)\n",
      "Updating files:  61% (7196/11796)\n",
      "Updating files:  62% (7314/11796)\n",
      "Updating files:  63% (7432/11796)\n",
      "Updating files:  64% (7550/11796)\n",
      "Updating files:  65% (7668/11796)\n",
      "Updating files:  66% (7786/11796)\n",
      "Updating files:  67% (7904/11796)\n",
      "Updating files:  68% (8022/11796)\n",
      "Updating files:  68% (8119/11796)\n",
      "Updating files:  69% (8140/11796)\n",
      "Updating files:  70% (8258/11796)\n",
      "Updating files:  71% (8376/11796)\n",
      "Updating files:  72% (8494/11796)\n",
      "Updating files:  73% (8612/11796)\n",
      "Updating files:  74% (8730/11796)\n",
      "Updating files:  75% (8847/11796)\n",
      "Updating files:  76% (8965/11796)\n",
      "Updating files:  77% (9083/11796)\n",
      "Updating files:  78% (9201/11796)\n",
      "Updating files:  79% (9319/11796)\n",
      "Updating files:  79% (9338/11796)\n",
      "Updating files:  80% (9437/11796)\n",
      "Updating files:  81% (9555/11796)\n",
      "Updating files:  82% (9673/11796)\n",
      "Updating files:  83% (9791/11796)\n",
      "Updating files:  84% (9909/11796)\n",
      "Updating files:  85% (10027/11796)\n",
      "Updating files:  86% (10145/11796)\n",
      "Updating files:  87% (10263/11796)\n",
      "Updating files:  88% (10381/11796)\n",
      "Updating files:  89% (10499/11796)\n",
      "Updating files:  89% (10598/11796)\n",
      "Updating files:  90% (10617/11796)\n",
      "Updating files:  91% (10735/11796)\n",
      "Updating files:  92% (10853/11796)\n",
      "Updating files:  93% (10971/11796)\n",
      "Updating files:  94% (11089/11796)\n",
      "Updating files:  95% (11207/11796)\n",
      "Updating files:  96% (11325/11796)\n",
      "Updating files:  97% (11443/11796)\n",
      "Updating files:  98% (11561/11796)\n",
      "Updating files:  98% (11577/11796)\n",
      "Updating files:  99% (11679/11796)\n",
      "Updating files: 100% (11796/11796)\n",
      "Updating files: 100% (11796/11796), done.\n"
     ]
    }
   ],
   "source": [
    "!git clone https://github.com/TheDunkinArt/face_detect_python.git"
   ]
  },
  {
   "cell_type": "code",
   "execution_count": 20,
   "id": "204c4fb1-353c-438f-a0a4-bb7df1144c03",
   "metadata": {
    "scrolled": true
   },
   "outputs": [
    {
     "name": "stdout",
     "output_type": "stream",
     "text": [
      "Requirement already satisfied: pickleshare in c:\\users\\administrator\\appdata\\local\\programs\\python\\python312\\lib\\site-packages (0.7.5)\n",
      "Note: you may need to restart the kernel to use updated packages.\n"
     ]
    }
   ],
   "source": [
    "pip install pickleshare"
   ]
  },
  {
   "cell_type": "code",
   "execution_count": 21,
   "id": "3a0ba00b-46dd-4a0b-b898-d47adfcf7a5e",
   "metadata": {},
   "outputs": [
    {
     "name": "stdout",
     "output_type": "stream",
     "text": [
      "C:\\Users\\Administrator\\Desktop\\Saadi1.0\\face_detect_python\\face_detect_python\n"
     ]
    }
   ],
   "source": [
    "cd face_detect_python"
   ]
  },
  {
   "cell_type": "code",
   "execution_count": 22,
   "id": "eae71421-ccd7-4cc3-b02a-a298ff64dc7d",
   "metadata": {
    "scrolled": true
   },
   "outputs": [
    {
     "name": "stdout",
     "output_type": "stream",
     "text": [
      " Volume in drive C is Windows Server\n",
      " Volume Serial Number is F6DB-3FC4\n",
      "\n",
      " Directory of C:\\Users\\Administrator\\Desktop\\Saadi1.0\\face_detect_python\\face_detect_python\n",
      "\n",
      "09/04/2024  02:25 AM    <DIR>          .\n",
      "09/04/2024  02:24 AM    <DIR>          ..\n",
      "09/04/2024  02:25 AM    <DIR>          Dataset\n",
      "09/04/2024  02:25 AM         4,377,486 Face_Mask_Detection.ipynb\n",
      "09/04/2024  02:25 AM           561,335 haarcascade_frontalface_alt2.xml\n",
      "09/04/2024  02:25 AM        11,488,344 mask_recog.h5\n",
      "09/04/2024  02:25 AM             4,957 ReadMe-Important.txt\n",
      "               4 File(s)     16,432,122 bytes\n",
      "               3 Dir(s)  177,646,174,208 bytes free\n"
     ]
    }
   ],
   "source": [
    "ls"
   ]
  },
  {
   "cell_type": "code",
   "execution_count": 23,
   "id": "0288cc86-6898-4c0a-8cbf-5f705ff5a515",
   "metadata": {
    "scrolled": true
   },
   "outputs": [
    {
     "name": "stdout",
     "output_type": "stream",
     "text": [
      "Requirement already satisfied: tensorflow in c:\\users\\administrator\\appdata\\local\\programs\\python\\python312\\lib\\site-packages (2.17.0)\n",
      "Requirement already satisfied: tensorflow-intel==2.17.0 in c:\\users\\administrator\\appdata\\local\\programs\\python\\python312\\lib\\site-packages (from tensorflow) (2.17.0)\n",
      "Requirement already satisfied: absl-py>=1.0.0 in c:\\users\\administrator\\appdata\\local\\programs\\python\\python312\\lib\\site-packages (from tensorflow-intel==2.17.0->tensorflow) (2.1.0)\n",
      "Requirement already satisfied: astunparse>=1.6.0 in c:\\users\\administrator\\appdata\\local\\programs\\python\\python312\\lib\\site-packages (from tensorflow-intel==2.17.0->tensorflow) (1.6.3)\n",
      "Requirement already satisfied: flatbuffers>=24.3.25 in c:\\users\\administrator\\appdata\\local\\programs\\python\\python312\\lib\\site-packages (from tensorflow-intel==2.17.0->tensorflow) (24.3.25)\n",
      "Requirement already satisfied: gast!=0.5.0,!=0.5.1,!=0.5.2,>=0.2.1 in c:\\users\\administrator\\appdata\\local\\programs\\python\\python312\\lib\\site-packages (from tensorflow-intel==2.17.0->tensorflow) (0.6.0)\n",
      "Requirement already satisfied: google-pasta>=0.1.1 in c:\\users\\administrator\\appdata\\local\\programs\\python\\python312\\lib\\site-packages (from tensorflow-intel==2.17.0->tensorflow) (0.2.0)\n",
      "Requirement already satisfied: h5py>=3.10.0 in c:\\users\\administrator\\appdata\\local\\programs\\python\\python312\\lib\\site-packages (from tensorflow-intel==2.17.0->tensorflow) (3.11.0)\n",
      "Requirement already satisfied: libclang>=13.0.0 in c:\\users\\administrator\\appdata\\local\\programs\\python\\python312\\lib\\site-packages (from tensorflow-intel==2.17.0->tensorflow) (18.1.1)\n",
      "Requirement already satisfied: ml-dtypes<0.5.0,>=0.3.1 in c:\\users\\administrator\\appdata\\local\\programs\\python\\python312\\lib\\site-packages (from tensorflow-intel==2.17.0->tensorflow) (0.4.0)\n",
      "Requirement already satisfied: opt-einsum>=2.3.2 in c:\\users\\administrator\\appdata\\local\\programs\\python\\python312\\lib\\site-packages (from tensorflow-intel==2.17.0->tensorflow) (3.3.0)\n",
      "Requirement already satisfied: packaging in c:\\users\\administrator\\appdata\\local\\programs\\python\\python312\\lib\\site-packages (from tensorflow-intel==2.17.0->tensorflow) (24.1)\n",
      "Requirement already satisfied: protobuf!=4.21.0,!=4.21.1,!=4.21.2,!=4.21.3,!=4.21.4,!=4.21.5,<5.0.0dev,>=3.20.3 in c:\\users\\administrator\\appdata\\local\\programs\\python\\python312\\lib\\site-packages (from tensorflow-intel==2.17.0->tensorflow) (4.25.4)\n",
      "Requirement already satisfied: requests<3,>=2.21.0 in c:\\users\\administrator\\appdata\\local\\programs\\python\\python312\\lib\\site-packages (from tensorflow-intel==2.17.0->tensorflow) (2.32.3)\n",
      "Requirement already satisfied: setuptools in c:\\users\\administrator\\appdata\\local\\programs\\python\\python312\\lib\\site-packages (from tensorflow-intel==2.17.0->tensorflow) (74.0.0)\n",
      "Requirement already satisfied: six>=1.12.0 in c:\\users\\administrator\\appdata\\local\\programs\\python\\python312\\lib\\site-packages (from tensorflow-intel==2.17.0->tensorflow) (1.16.0)\n",
      "Requirement already satisfied: termcolor>=1.1.0 in c:\\users\\administrator\\appdata\\local\\programs\\python\\python312\\lib\\site-packages (from tensorflow-intel==2.17.0->tensorflow) (2.4.0)\n",
      "Requirement already satisfied: typing-extensions>=3.6.6 in c:\\users\\administrator\\appdata\\local\\programs\\python\\python312\\lib\\site-packages (from tensorflow-intel==2.17.0->tensorflow) (4.12.2)\n",
      "Requirement already satisfied: wrapt>=1.11.0 in c:\\users\\administrator\\appdata\\local\\programs\\python\\python312\\lib\\site-packages (from tensorflow-intel==2.17.0->tensorflow) (1.16.0)\n",
      "Requirement already satisfied: grpcio<2.0,>=1.24.3 in c:\\users\\administrator\\appdata\\local\\programs\\python\\python312\\lib\\site-packages (from tensorflow-intel==2.17.0->tensorflow) (1.66.1)\n",
      "Requirement already satisfied: tensorboard<2.18,>=2.17 in c:\\users\\administrator\\appdata\\local\\programs\\python\\python312\\lib\\site-packages (from tensorflow-intel==2.17.0->tensorflow) (2.17.1)\n",
      "Requirement already satisfied: keras>=3.2.0 in c:\\users\\administrator\\appdata\\local\\programs\\python\\python312\\lib\\site-packages (from tensorflow-intel==2.17.0->tensorflow) (3.5.0)\n",
      "Requirement already satisfied: numpy<2.0.0,>=1.26.0 in c:\\users\\administrator\\appdata\\local\\programs\\python\\python312\\lib\\site-packages (from tensorflow-intel==2.17.0->tensorflow) (1.26.4)\n",
      "Requirement already satisfied: wheel<1.0,>=0.23.0 in c:\\users\\administrator\\appdata\\local\\programs\\python\\python312\\lib\\site-packages (from astunparse>=1.6.0->tensorflow-intel==2.17.0->tensorflow) (0.44.0)\n",
      "Requirement already satisfied: rich in c:\\users\\administrator\\appdata\\local\\programs\\python\\python312\\lib\\site-packages (from keras>=3.2.0->tensorflow-intel==2.17.0->tensorflow) (13.8.0)\n",
      "Requirement already satisfied: namex in c:\\users\\administrator\\appdata\\local\\programs\\python\\python312\\lib\\site-packages (from keras>=3.2.0->tensorflow-intel==2.17.0->tensorflow) (0.0.8)\n",
      "Requirement already satisfied: optree in c:\\users\\administrator\\appdata\\local\\programs\\python\\python312\\lib\\site-packages (from keras>=3.2.0->tensorflow-intel==2.17.0->tensorflow) (0.12.1)\n",
      "Requirement already satisfied: charset-normalizer<4,>=2 in c:\\users\\administrator\\appdata\\local\\programs\\python\\python312\\lib\\site-packages (from requests<3,>=2.21.0->tensorflow-intel==2.17.0->tensorflow) (3.3.2)\n",
      "Requirement already satisfied: idna<4,>=2.5 in c:\\users\\administrator\\appdata\\local\\programs\\python\\python312\\lib\\site-packages (from requests<3,>=2.21.0->tensorflow-intel==2.17.0->tensorflow) (3.8)\n",
      "Requirement already satisfied: urllib3<3,>=1.21.1 in c:\\users\\administrator\\appdata\\local\\programs\\python\\python312\\lib\\site-packages (from requests<3,>=2.21.0->tensorflow-intel==2.17.0->tensorflow) (2.2.2)\n",
      "Requirement already satisfied: certifi>=2017.4.17 in c:\\users\\administrator\\appdata\\local\\programs\\python\\python312\\lib\\site-packages (from requests<3,>=2.21.0->tensorflow-intel==2.17.0->tensorflow) (2024.8.30)\n",
      "Requirement already satisfied: markdown>=2.6.8 in c:\\users\\administrator\\appdata\\local\\programs\\python\\python312\\lib\\site-packages (from tensorboard<2.18,>=2.17->tensorflow-intel==2.17.0->tensorflow) (3.7)\n",
      "Requirement already satisfied: tensorboard-data-server<0.8.0,>=0.7.0 in c:\\users\\administrator\\appdata\\local\\programs\\python\\python312\\lib\\site-packages (from tensorboard<2.18,>=2.17->tensorflow-intel==2.17.0->tensorflow) (0.7.2)\n",
      "Requirement already satisfied: werkzeug>=1.0.1 in c:\\users\\administrator\\appdata\\local\\programs\\python\\python312\\lib\\site-packages (from tensorboard<2.18,>=2.17->tensorflow-intel==2.17.0->tensorflow) (3.0.4)\n",
      "Requirement already satisfied: MarkupSafe>=2.1.1 in c:\\users\\administrator\\appdata\\local\\programs\\python\\python312\\lib\\site-packages (from werkzeug>=1.0.1->tensorboard<2.18,>=2.17->tensorflow-intel==2.17.0->tensorflow) (2.1.5)\n",
      "Requirement already satisfied: markdown-it-py>=2.2.0 in c:\\users\\administrator\\appdata\\local\\programs\\python\\python312\\lib\\site-packages (from rich->keras>=3.2.0->tensorflow-intel==2.17.0->tensorflow) (3.0.0)\n",
      "Requirement already satisfied: pygments<3.0.0,>=2.13.0 in c:\\users\\administrator\\appdata\\local\\programs\\python\\python312\\lib\\site-packages (from rich->keras>=3.2.0->tensorflow-intel==2.17.0->tensorflow) (2.18.0)\n",
      "Requirement already satisfied: mdurl~=0.1 in c:\\users\\administrator\\appdata\\local\\programs\\python\\python312\\lib\\site-packages (from markdown-it-py>=2.2.0->rich->keras>=3.2.0->tensorflow-intel==2.17.0->tensorflow) (0.1.2)\n"
     ]
    }
   ],
   "source": [
    "!pip install --upgrade tensorflow"
   ]
  },
  {
   "cell_type": "code",
   "execution_count": 24,
   "id": "1e75b8bc-ae50-4d25-acc1-d521418bab55",
   "metadata": {},
   "outputs": [
    {
     "name": "stdout",
     "output_type": "stream",
     "text": [
      "2.17.0\n"
     ]
    }
   ],
   "source": [
    "import tensorflow as tf\n",
    "print(tf.__version__)"
   ]
  },
  {
   "cell_type": "code",
   "execution_count": 25,
   "id": "af0f1974-0df5-47fd-b1c1-d669ece690c4",
   "metadata": {},
   "outputs": [],
   "source": [
    "from tensorflow.keras.applications.mobilenet_v2 import preprocess_input"
   ]
  },
  {
   "cell_type": "code",
   "execution_count": 26,
   "id": "ee6fe68e-c8ef-4af0-9509-72a07bde97e5",
   "metadata": {},
   "outputs": [],
   "source": [
    "def build_model():\n",
    "    baseModel = MobileNetV2(weights=\"imagenet\", include_top=False, input_shape=(224, 224, 3))\n",
    "    headModel = baseModel.output\n",
    "    headModel = GlobalAveragePooling2D()(headModel)\n",
    "    headModel = Dense(128, activation=\"relu\")(headModel)\n",
    "    headModel = Dropout(0.5)(headModel)\n",
    "    headModel = Dense(3, activation=\"softmax\")(headModel)  # Change this to match the number of classes\n",
    "\n",
    "    model = Model(inputs=baseModel.input, outputs=headModel)\n",
    "    return model"
   ]
  },
  {
   "cell_type": "code",
   "execution_count": 27,
   "id": "c7828f7e-ca95-42e5-b09f-0730bc1aa7fc",
   "metadata": {},
   "outputs": [],
   "source": [
    "def load_data(root_dir):\n",
    "    data_gen = ImageDataGenerator(\n",
    "        preprocessing_function=preprocess_input,\n",
    "        validation_split=0.2\n",
    "    )\n",
    "\n",
    "    train_gen = data_gen.flow_from_directory(\n",
    "        root_dir,\n",
    "        target_size=(224, 224),\n",
    "        batch_size=32,\n",
    "        class_mode='sparse',  # Ensure this matches with your labels\n",
    "        subset='training'\n",
    "    )\n",
    "\n",
    "    val_gen = data_gen.flow_from_directory(\n",
    "        root_dir,\n",
    "        target_size=(224, 224),\n",
    "        batch_size=32,\n",
    "        class_mode='sparse',  # Ensure this matches with your labels\n",
    "        subset='validation'\n",
    "    )\n",
    "\n",
    "    return train_gen, val_gen"
   ]
  },
  {
   "cell_type": "code",
   "execution_count": 28,
   "id": "05fed7ae-dbd6-498f-9dd6-8af076e1a296",
   "metadata": {},
   "outputs": [
    {
     "name": "stdout",
     "output_type": "stream",
     "text": [
      "Requirement already satisfied: pillow in c:\\users\\administrator\\appdata\\local\\programs\\python\\python312\\lib\\site-packages (10.4.0)\n",
      "Note: you may need to restart the kernel to use updated packages.\n"
     ]
    }
   ],
   "source": [
    "pip install pillow\n"
   ]
  },
  {
   "cell_type": "code",
   "execution_count": 11,
   "id": "5ea1e07a-01b6-4cca-ac9b-8a1cae81b88e",
   "metadata": {},
   "outputs": [
    {
     "name": "stdout",
     "output_type": "stream",
     "text": [
      "Requirement already satisfied: matplotlib in c:\\users\\administrator\\appdata\\local\\programs\\python\\python312\\lib\\site-packages (3.9.2)\n",
      "Requirement already satisfied: contourpy>=1.0.1 in c:\\users\\administrator\\appdata\\local\\programs\\python\\python312\\lib\\site-packages (from matplotlib) (1.3.0)\n",
      "Requirement already satisfied: cycler>=0.10 in c:\\users\\administrator\\appdata\\local\\programs\\python\\python312\\lib\\site-packages (from matplotlib) (0.12.1)\n",
      "Requirement already satisfied: fonttools>=4.22.0 in c:\\users\\administrator\\appdata\\local\\programs\\python\\python312\\lib\\site-packages (from matplotlib) (4.53.1)\n",
      "Requirement already satisfied: kiwisolver>=1.3.1 in c:\\users\\administrator\\appdata\\local\\programs\\python\\python312\\lib\\site-packages (from matplotlib) (1.4.5)\n",
      "Requirement already satisfied: numpy>=1.23 in c:\\users\\administrator\\appdata\\local\\programs\\python\\python312\\lib\\site-packages (from matplotlib) (1.26.4)\n",
      "Requirement already satisfied: packaging>=20.0 in c:\\users\\administrator\\appdata\\local\\programs\\python\\python312\\lib\\site-packages (from matplotlib) (24.1)\n",
      "Requirement already satisfied: pillow>=8 in c:\\users\\administrator\\appdata\\local\\programs\\python\\python312\\lib\\site-packages (from matplotlib) (10.4.0)\n",
      "Requirement already satisfied: pyparsing>=2.3.1 in c:\\users\\administrator\\appdata\\local\\programs\\python\\python312\\lib\\site-packages (from matplotlib) (3.1.4)\n",
      "Requirement already satisfied: python-dateutil>=2.7 in c:\\users\\administrator\\appdata\\local\\programs\\python\\python312\\lib\\site-packages (from matplotlib) (2.9.0.post0)\n",
      "Requirement already satisfied: six>=1.5 in c:\\users\\administrator\\appdata\\local\\programs\\python\\python312\\lib\\site-packages (from python-dateutil>=2.7->matplotlib) (1.16.0)\n",
      "Note: you may need to restart the kernel to use updated packages.\n"
     ]
    }
   ],
   "source": [
    "pip install matplotlib"
   ]
  },
  {
   "cell_type": "code",
   "execution_count": 1,
   "id": "29fc9042-c4ee-444c-a3c0-c27c06ed3df3",
   "metadata": {},
   "outputs": [
    {
     "name": "stdout",
     "output_type": "stream",
     "text": [
      "Matplotlib version: 3.9.2\n"
     ]
    }
   ],
   "source": [
    "import matplotlib\n",
    "print(\"Matplotlib version:\", matplotlib.__version__)\n"
   ]
  },
  {
   "cell_type": "code",
   "execution_count": 2,
   "id": "7bfd894c-ec86-4baa-a48b-2800719d5a30",
   "metadata": {},
   "outputs": [
    {
     "name": "stdout",
     "output_type": "stream",
     "text": [
      "Pillow is installed correctly.\n"
     ]
    }
   ],
   "source": [
    "from PIL import Image\n",
    "print(\"Pillow is installed correctly.\")\n"
   ]
  },
  {
   "cell_type": "code",
   "execution_count": 14,
   "id": "f55b7162-a7d2-4cf1-a2be-df1f37ec1b8c",
   "metadata": {},
   "outputs": [
    {
     "name": "stdout",
     "output_type": "stream",
     "text": [
      "Requirement already satisfied: opencv-python in c:\\users\\administrator\\appdata\\roaming\\python\\python312\\site-packages (4.10.0.84)\n",
      "Requirement already satisfied: numpy>=1.21.2 in c:\\users\\administrator\\appdata\\local\\programs\\python\\python312\\lib\\site-packages (from opencv-python) (1.26.4)\n",
      "Note: you may need to restart the kernel to use updated packages.\n"
     ]
    }
   ],
   "source": [
    "pip install --user opencv-python"
   ]
  },
  {
   "cell_type": "code",
   "execution_count": 1,
   "id": "74acfc12-90ca-40c1-ba22-27e723f6f1f0",
   "metadata": {},
   "outputs": [
    {
     "name": "stdout",
     "output_type": "stream",
     "text": [
      "\n",
      "General configuration for OpenCV 4.10.0 =====================================\n",
      "  Version control:               4.10.0\n",
      "\n",
      "  Platform:\n",
      "    Timestamp:                   2024-06-17T17:58:36Z\n",
      "    Host:                        Windows 10.0.17763 AMD64\n",
      "    CMake:                       3.24.2\n",
      "    CMake generator:             Visual Studio 14 2015\n",
      "    CMake build tool:            MSBuild.exe\n",
      "    MSVC:                        1900\n",
      "    Configuration:               Debug Release\n",
      "\n",
      "  CPU/HW features:\n",
      "    Baseline:                    SSE SSE2 SSE3\n",
      "      requested:                 SSE3\n",
      "    Dispatched code generation:  SSE4_1 SSE4_2 FP16 AVX AVX2\n",
      "      requested:                 SSE4_1 SSE4_2 AVX FP16 AVX2 AVX512_SKX\n",
      "      SSE4_1 (16 files):         + SSSE3 SSE4_1\n",
      "      SSE4_2 (1 files):          + SSSE3 SSE4_1 POPCNT SSE4_2\n",
      "      FP16 (0 files):            + SSSE3 SSE4_1 POPCNT SSE4_2 FP16 AVX\n",
      "      AVX (8 files):             + SSSE3 SSE4_1 POPCNT SSE4_2 AVX\n",
      "      AVX2 (36 files):           + SSSE3 SSE4_1 POPCNT SSE4_2 FP16 FMA3 AVX AVX2\n",
      "\n",
      "  C/C++:\n",
      "    Built as dynamic libs?:      NO\n",
      "    C++ standard:                11\n",
      "    C++ Compiler:                C:/Program Files (x86)/Microsoft Visual Studio 14.0/VC/bin/x86_amd64/cl.exe  (ver 19.0.24247.2)\n",
      "    C++ flags (Release):         /DWIN32 /D_WINDOWS /W4 /GR  /D _CRT_SECURE_NO_DEPRECATE /D _CRT_NONSTDC_NO_DEPRECATE /D _SCL_SECURE_NO_WARNINGS /Gy /bigobj /Oi  /fp:precise     /EHa /wd4127 /wd4251 /wd4324 /wd4275 /wd4512 /wd4589 /wd4819 /MP  /O2 /Ob2 /DNDEBUG \n",
      "    C++ flags (Debug):           /DWIN32 /D_WINDOWS /W4 /GR  /D _CRT_SECURE_NO_DEPRECATE /D _CRT_NONSTDC_NO_DEPRECATE /D _SCL_SECURE_NO_WARNINGS /Gy /bigobj /Oi  /fp:precise     /EHa /wd4127 /wd4251 /wd4324 /wd4275 /wd4512 /wd4589 /wd4819 /MP  /Zi /Ob0 /Od /RTC1 \n",
      "    C Compiler:                  C:/Program Files (x86)/Microsoft Visual Studio 14.0/VC/bin/x86_amd64/cl.exe\n",
      "    C flags (Release):           /DWIN32 /D_WINDOWS /W3  /D _CRT_SECURE_NO_DEPRECATE /D _CRT_NONSTDC_NO_DEPRECATE /D _SCL_SECURE_NO_WARNINGS /Gy /bigobj /Oi  /fp:precise     /MP   /O2 /Ob2 /DNDEBUG \n",
      "    C flags (Debug):             /DWIN32 /D_WINDOWS /W3  /D _CRT_SECURE_NO_DEPRECATE /D _CRT_NONSTDC_NO_DEPRECATE /D _SCL_SECURE_NO_WARNINGS /Gy /bigobj /Oi  /fp:precise     /MP /Zi /Ob0 /Od /RTC1 \n",
      "    Linker flags (Release):      /machine:x64  /NODEFAULTLIB:atlthunk.lib /INCREMENTAL:NO  /NODEFAULTLIB:libcmtd.lib /NODEFAULTLIB:libcpmtd.lib /NODEFAULTLIB:msvcrtd.lib\n",
      "    Linker flags (Debug):        /machine:x64  /NODEFAULTLIB:atlthunk.lib /debug /INCREMENTAL  /NODEFAULTLIB:libcmt.lib /NODEFAULTLIB:libcpmt.lib /NODEFAULTLIB:msvcrt.lib\n",
      "    ccache:                      NO\n",
      "    Precompiled headers:         YES\n",
      "    Extra dependencies:          wsock32 comctl32 gdi32 ole32 setupapi ws2_32\n",
      "    3rdparty dependencies:       libprotobuf ade ittnotify libjpeg-turbo libwebp libpng libtiff libopenjp2 IlmImf zlib ippiw ippicv\n",
      "\n",
      "  OpenCV modules:\n",
      "    To be built:                 calib3d core dnn features2d flann gapi highgui imgcodecs imgproc ml objdetect photo python3 stitching video videoio\n",
      "    Disabled:                    java world\n",
      "    Disabled by dependency:      -\n",
      "    Unavailable:                 python2 ts\n",
      "    Applications:                -\n",
      "    Documentation:               NO\n",
      "    Non-free algorithms:         NO\n",
      "\n",
      "  Windows RT support:            NO\n",
      "\n",
      "  GUI:                           WIN32UI\n",
      "    Win32 UI:                    YES\n",
      "    VTK support:                 NO\n",
      "\n",
      "  Media I/O: \n",
      "    ZLib:                        build (ver 1.3.1)\n",
      "    JPEG:                        build-libjpeg-turbo (ver 3.0.3-70)\n",
      "      SIMD Support Request:      YES\n",
      "      SIMD Support:              NO\n",
      "    WEBP:                        build (ver encoder: 0x020f)\n",
      "    PNG:                         build (ver 1.6.43)\n",
      "      SIMD Support Request:      YES\n",
      "      SIMD Support:              YES (Intel SSE)\n",
      "    TIFF:                        build (ver 42 - 4.6.0)\n",
      "    JPEG 2000:                   build (ver 2.5.0)\n",
      "    OpenEXR:                     build (ver 2.3.0)\n",
      "    HDR:                         YES\n",
      "    SUNRASTER:                   YES\n",
      "    PXM:                         YES\n",
      "    PFM:                         YES\n",
      "\n",
      "  Video I/O:\n",
      "    DC1394:                      NO\n",
      "    FFMPEG:                      YES (prebuilt binaries)\n",
      "      avcodec:                   YES (58.134.100)\n",
      "      avformat:                  YES (58.76.100)\n",
      "      avutil:                    YES (56.70.100)\n",
      "      swscale:                   YES (5.9.100)\n",
      "      avresample:                YES (4.0.0)\n",
      "    GStreamer:                   NO\n",
      "    DirectShow:                  YES\n",
      "    Media Foundation:            YES\n",
      "      DXVA:                      YES\n",
      "\n",
      "  Parallel framework:            Concurrency\n",
      "\n",
      "  Trace:                         YES (with Intel ITT)\n",
      "\n",
      "  Other third-party libraries:\n",
      "    Intel IPP:                   2021.11.0 [2021.11.0]\n",
      "           at:                   D:/a/opencv-python/opencv-python/_skbuild/win-amd64-3.9/cmake-build/3rdparty/ippicv/ippicv_win/icv\n",
      "    Intel IPP IW:                sources (2021.11.0)\n",
      "              at:                D:/a/opencv-python/opencv-python/_skbuild/win-amd64-3.9/cmake-build/3rdparty/ippicv/ippicv_win/iw\n",
      "    Lapack:                      NO\n",
      "    Eigen:                       NO\n",
      "    Custom HAL:                  NO\n",
      "    Protobuf:                    build (3.19.1)\n",
      "    Flatbuffers:                 builtin/3rdparty (23.5.9)\n",
      "\n",
      "  OpenCL:                        YES (NVD3D11)\n",
      "    Include path:                D:/a/opencv-python/opencv-python/opencv/3rdparty/include/opencl/1.2\n",
      "    Link libraries:              Dynamic load\n",
      "\n",
      "  Python 3:\n",
      "    Interpreter:                 C:/hostedtoolcache/windows/Python/3.9.13/x64/python.exe (ver 3.9.13)\n",
      "    Libraries:                   C:/hostedtoolcache/windows/Python/3.9.13/x64/libs/python39.lib (ver 3.9.13)\n",
      "    Limited API:                 YES (ver 0x03060000)\n",
      "    numpy:                       C:/hostedtoolcache/windows/Python/3.9.13/x64/lib/site-packages/numpy/_core/include (ver 2.0.0)\n",
      "    install path:                python/cv2/python-3\n",
      "\n",
      "  Python (for build):            C:\\hostedtoolcache\\windows\\Python\\3.9.13\\x64\\python.exe\n",
      "\n",
      "  Java:                          \n",
      "    ant:                         NO\n",
      "    Java:                        YES (ver 1.8.0.412)\n",
      "    JNI:                         C:/hostedtoolcache/windows/Java_Temurin-Hotspot_jdk/8.0.412-8/x64/include C:/hostedtoolcache/windows/Java_Temurin-Hotspot_jdk/8.0.412-8/x64/include/win32 C:/hostedtoolcache/windows/Java_Temurin-Hotspot_jdk/8.0.412-8/x64/include\n",
      "    Java wrappers:               NO\n",
      "    Java tests:                  NO\n",
      "\n",
      "  Install to:                    D:/a/opencv-python/opencv-python/_skbuild/win-amd64-3.9/cmake-install\n",
      "-----------------------------------------------------------------\n",
      "\n",
      "\n"
     ]
    }
   ],
   "source": [
    "import cv2\n",
    "print(cv2.getBuildInformation())"
   ]
  },
  {
   "cell_type": "code",
   "execution_count": 2,
   "id": "cdbcf616-2ccc-451e-8be9-a75937d5ff57",
   "metadata": {},
   "outputs": [
    {
     "name": "stdout",
     "output_type": "stream",
     "text": [
      "TensorFlow version: 2.17.0\n",
      "Dataset directory not found: Dataset/Train\n"
     ]
    }
   ],
   "source": [
    "import os\n",
    "import cv2\n",
    "import numpy as np\n",
    "import tensorflow as tf\n",
    "import matplotlib.pyplot as plt\n",
    "from tensorflow.keras.preprocessing.image import ImageDataGenerator, img_to_array\n",
    "from tensorflow.keras.applications.mobilenet_v2 import MobileNetV2, preprocess_input\n",
    "from tensorflow.keras.models import Model\n",
    "from tensorflow.keras.layers import Dense, Dropout, GlobalAveragePooling2D\n",
    "from tensorflow.keras.optimizers import Adam\n",
    "from tensorflow.keras.callbacks import EarlyStopping, ModelCheckpoint\n",
    "\n",
    "print(\"TensorFlow version:\", tf.__version__)\n",
    "\n",
    "# Conditional import for cv2_imshow based on environment\n",
    "try:\n",
    "    from google.colab.patches import cv2_imshow  # Import cv2_imshow for displaying images in Colab\n",
    "    using_colab = True\n",
    "except ImportError:\n",
    "    using_colab = False\n",
    "    cv2_imshow = None  # Set to None if cv2_imshow is not available\n",
    "\n",
    "def display_image(image, title=\"Image\"):\n",
    "    if using_colab and cv2_imshow:\n",
    "        cv2_imshow(image)\n",
    "    else:\n",
    "        plt.imshow(cv2.cvtColor(image, cv2.COLOR_BGR2RGB))\n",
    "        plt.title(title)\n",
    "        plt.axis('off')  # Hide axes\n",
    "        plt.show()\n",
    "\n",
    "# Step 6: Build the model\n",
    "def build_model(num_classes):\n",
    "    baseModel = MobileNetV2(weights=\"imagenet\", include_top=False, input_shape=(224, 224, 3))\n",
    "    headModel = baseModel.output\n",
    "    headModel = GlobalAveragePooling2D()(headModel)\n",
    "    headModel = Dense(128, activation=\"relu\")(headModel)\n",
    "    headModel = Dropout(0.5)(headModel)\n",
    "    headModel = Dense(num_classes, activation=\"sigmoid\")(headModel)  # Use sigmoid for binary classification\n",
    "\n",
    "    model = Model(inputs=baseModel.input, outputs=headModel)\n",
    "    return model\n",
    "\n",
    "# Step 7: Load data and rescale images\n",
    "def load_data(root_dir):\n",
    "    data_gen = ImageDataGenerator(\n",
    "        preprocessing_function=preprocess_input,\n",
    "        validation_split=0.2\n",
    "    )\n",
    "\n",
    "    train_gen = data_gen.flow_from_directory(\n",
    "        root_dir,\n",
    "        target_size=(224, 224),\n",
    "        batch_size=32,\n",
    "        class_mode='binary',  # Use binary for binary classification\n",
    "        subset='training'\n",
    "    )\n",
    "\n",
    "    val_gen = data_gen.flow_from_directory(\n",
    "        root_dir,\n",
    "        target_size=(224, 224),\n",
    "        batch_size=32,\n",
    "        class_mode='binary',  # Use binary for binary classification\n",
    "        subset='validation'\n",
    "    )\n",
    "\n",
    "    return train_gen, val_gen\n",
    "\n",
    "# Step 8: Compile the model with chosen parameters\n",
    "def compile_model(model):\n",
    "    learning_rate = 1e-4\n",
    "    opt = Adam(learning_rate=learning_rate)\n",
    "    model.compile(\n",
    "        loss=\"binary_crossentropy\",  # Use binary crossentropy for binary classification\n",
    "        optimizer=opt,\n",
    "        metrics=[\"accuracy\"]\n",
    "    )\n",
    "\n",
    "# Step 9: Train the model\n",
    "def train_model(model, train_gen, val_gen, model_path=\"best_model.keras\"):\n",
    "    early_stopping = EarlyStopping(monitor='val_loss', patience=5, restore_best_weights=True)\n",
    "    checkpoint = ModelCheckpoint(model_path, monitor='val_loss', save_best_only=True)\n",
    "\n",
    "    history = model.fit(\n",
    "        train_gen,\n",
    "        validation_data=val_gen,\n",
    "        epochs=20,\n",
    "        callbacks=[early_stopping, checkpoint]\n",
    "    )\n",
    "\n",
    "    return history\n",
    "\n",
    "# Step 10: Evaluate the model\n",
    "def evaluate_model(model, val_gen):\n",
    "    val_loss, val_acc = model.evaluate(val_gen)\n",
    "    print(f\"Validation Loss: {val_loss}, Validation Accuracy: {val_acc}\")\n",
    "\n",
    "# Step 11: Make predictions on the test set\n",
    "def test_model(model, test_dir):\n",
    "    test_gen = ImageDataGenerator(rescale=1./255).flow_from_directory(\n",
    "        test_dir,\n",
    "        target_size=(224, 224),\n",
    "        batch_size=32,\n",
    "        class_mode='binary'  # Use binary for binary classification\n",
    "    )\n",
    "\n",
    "    predictions = model.predict(test_gen)\n",
    "    return predictions, test_gen\n",
    "\n",
    "# Step 12: Face mask detection on sample images\n",
    "def face_mask_detector(frame, model):\n",
    "    gray = cv2.cvtColor(frame, cv2.COLOR_BGR2GRAY)\n",
    "    faceCascade = cv2.CascadeClassifier(cv2.data.haarcascades + \"haarcascade_frontalface_alt2.xml\")\n",
    "    faces = faceCascade.detectMultiScale(gray, scaleFactor=1.1, minNeighbors=5, minSize=(60, 60), flags=cv2.CASCADE_SCALE_IMAGE)\n",
    "\n",
    "    if len(faces) == 0:\n",
    "        print(\"No faces detected in the image.\")\n",
    "        return None\n",
    "\n",
    "    for (x, y, w, h) in faces:\n",
    "        face_frame = frame[y:y+h, x:x+w]\n",
    "        face_frame = cv2.cvtColor(face_frame, cv2.COLOR_BGR2RGB)\n",
    "        face_frame = cv2.resize(face_frame, (224, 224))\n",
    "        face_frame = img_to_array(face_frame)\n",
    "        face_frame = np.expand_dims(face_frame, axis=0)\n",
    "        face_frame = preprocess_input(face_frame)\n",
    "        preds = model.predict(face_frame)\n",
    "\n",
    "        mask_prob = preds[0][0]  # Single probability value if using sigmoid\n",
    "        label = \"Mask\" if mask_prob > 0.5 else \"No Mask\"\n",
    "        color = (0, 255, 0) if label == \"Mask\" else (0, 0, 255)\n",
    "        label = \"{}: {:.2f}%\".format(label, mask_prob * 100)\n",
    "        cv2.putText(frame, label, (x, y - 10), cv2.FONT_HERSHEY_SIMPLEX, 1, color, 2)\n",
    "        cv2.rectangle(frame, (x, y), (x + w, y + h), color, 3)\n",
    "\n",
    "    return frame\n",
    "\n",
    "# Step 13: Main Execution\n",
    "def main():\n",
    "    root_dir = 'Dataset/Train'  # Updated root directory path\n",
    "    test_dir = 'Dataset/Test/'  # Test directory for predictions\n",
    "    model_path = \"best_model.keras\"\n",
    "\n",
    "    if not os.path.isdir(root_dir):\n",
    "        print(f\"Dataset directory not found: {root_dir}\")\n",
    "        return\n",
    "\n",
    "    # Load data\n",
    "    train_gen, val_gen = load_data(root_dir)\n",
    "    num_classes = 1  # Binary classification\n",
    "    print(f\"Loaded {train_gen.samples} training images and {val_gen.samples} validation images.\")\n",
    "    print(\"Class indices:\", train_gen.class_indices)\n",
    "    print(\"Unique labels in training data:\", np.unique(train_gen.classes))\n",
    "    print(\"Unique labels in validation data:\", np.unique(val_gen.classes))\n",
    "\n",
    "    # Check if a pre-trained model exists\n",
    "    if os.path.exists(model_path):\n",
    "        print(f\"Loading pre-trained model from {model_path}...\")\n",
    "        model = tf.keras.models.load_model(model_path)\n",
    "    else:\n",
    "        # Build and compile model\n",
    "        model = build_model(num_classes)\n",
    "        compile_model(model)\n",
    "\n",
    "        # Train model\n",
    "        train_model(model, train_gen, val_gen, model_path)\n",
    "\n",
    "    # Evaluate model\n",
    "    evaluate_model(model, val_gen)\n",
    "\n",
    "    # Test model on the test set\n",
    "    predictions, test_gen = test_model(model, test_dir)\n",
    "    print(f\"Predictions on test data: {predictions}\")\n",
    "    print(\"Test labels:\", test_gen.classes)\n",
    "\n",
    "    # Test detection on some images (single image detection)\n",
    "    sample_image_path = os.path.join(test_dir, 'WithMask/sample_image.png')  # Example image path\n",
    "    input_image = cv2.imread(sample_image_path)\n",
    "\n",
    "    if input_image is None:\n",
    "        print(f\"Failed to load image for detection: {sample_image_path}\")\n",
    "    else:\n",
    "        output = face_mask_detector(input_image, model)\n",
    "        if output is None:\n",
    "            print(\"No faces were detected in the image.\")\n",
    "        else:\n",
    "            display_image(output, title=\"Face Mask Detection Output\")\n",
    "\n",
    "            # If not using Colab, add OpenCV display functionality\n",
    "            if not using_colab and cv2_imshow:\n",
    "                cv2.waitKey(0)\n",
    "                cv2.destroyAllWindows()\n",
    "\n",
    "if __name__ == \"__main__\":\n",
    "    main()\n"
   ]
  },
  {
   "cell_type": "code",
   "execution_count": null,
   "id": "0cb313de-fdf1-4b67-89e2-6b66eb7d476c",
   "metadata": {},
   "outputs": [],
   "source": []
  }
 ],
 "metadata": {
  "kernelspec": {
   "display_name": "Python 3 (ipykernel)",
   "language": "python",
   "name": "python3"
  },
  "language_info": {
   "codemirror_mode": {
    "name": "ipython",
    "version": 3
   },
   "file_extension": ".py",
   "mimetype": "text/x-python",
   "name": "python",
   "nbconvert_exporter": "python",
   "pygments_lexer": "ipython3",
   "version": "3.12.5"
  }
 },
 "nbformat": 4,
 "nbformat_minor": 5
}
